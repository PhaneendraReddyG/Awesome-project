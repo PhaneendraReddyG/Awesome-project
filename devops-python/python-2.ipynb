{
 "cells": [
  {
   "cell_type": "code",
   "execution_count": 1,
   "id": "050b6c3c",
   "metadata": {},
   "outputs": [
    {
     "name": "stdout",
     "output_type": "stream",
     "text": [
      "server1\n",
      "server2\n",
      "server3\n"
     ]
    }
   ],
   "source": [
    "\n",
    "\n",
    "server_names=[\"server1\",\"server2\",\"server3\"]\n",
    "\n",
    "for server in server_names:\n",
    "    print(server)"
   ]
  },
  {
   "cell_type": "code",
   "execution_count": 5,
   "id": "02e1cbf5",
   "metadata": {},
   "outputs": [
    {
     "name": "stdout",
     "output_type": "stream",
     "text": [
      "M --> backend/app.py\n",
      "A --> frontend/app.js\n",
      "D --> backed/requirements.txt\n"
     ]
    }
   ],
   "source": [
    "#output of cicd pipeline\n",
    "\n",
    "files_changed=[\"M backend/app.py\",\"A frontend/app.js\",\"D backed/requirements.txt\"]\n",
    "\n",
    "for file_info in files_changed:\n",
    "    status=file_info[0]\n",
    "    file_path=file_info[2:]\n",
    "    print(f\"{status} --> {file_path}\")"
   ]
  },
  {
   "cell_type": "code",
   "execution_count": 10,
   "id": "6119ba14",
   "metadata": {},
   "outputs": [
    {
     "name": "stdout",
     "output_type": "stream",
     "text": [
      "AWS_SECRET_KEY\n",
      "sj-123-ewr0e839\n"
     ]
    }
   ],
   "source": [
    "#environment variable processing\n",
    "\n",
    "env_vars = \"AWS_SECRET_KEY=sj-123-ewr0e839\"\n",
    "key_name=env_vars.split(\"=\")[0]\n",
    "print(key_name)\n",
    "key_value=env_vars.split(\"=\")[1]\n",
    "print(key_value)"
   ]
  },
  {
   "cell_type": "code",
   "execution_count": 11,
   "id": "82675c5f",
   "metadata": {},
   "outputs": [
    {
     "name": "stdout",
     "output_type": "stream",
     "text": [
      "<class 'dict'>\n"
     ]
    }
   ],
   "source": [
    "#dictionary\n",
    "\n",
    "#key = value\n",
    "\n",
    "aadhar_details={\n",
    "    'name':'phaneendra',\n",
    "    'aadhar_number':'739423438983',\n",
    "    'city':'kadapa',\n",
    "    'dob':'09-03-1999'\n",
    "}\n",
    "print(type(aadhar_details))"
   ]
  },
  {
   "cell_type": "code",
   "execution_count": 16,
   "id": "73cbb861",
   "metadata": {},
   "outputs": [
    {
     "name": "stdout",
     "output_type": "stream",
     "text": [
      "web01\n"
     ]
    }
   ],
   "source": [
    "##store the server metadata\n",
    "\n",
    "server_info={\n",
    "    'hostname':'web01',\n",
    "    'region':'us-east-1',\n",
    "    'status':'active'\n",
    "}\n",
    "\n",
    "print(server_info['hostname'])"
   ]
  },
  {
   "cell_type": "code",
   "execution_count": 19,
   "id": "a75449ea",
   "metadata": {},
   "outputs": [
    {
     "name": "stdout",
     "output_type": "stream",
     "text": [
      "hostname  : web01\n",
      "region  : us-east-1\n",
      "status  : active\n"
     ]
    }
   ],
   "source": [
    "#operations\n",
    "for server in server_info:\n",
    "    print(f\"{server}  : {server_info[server]}\")"
   ]
  },
  {
   "cell_type": "code",
   "execution_count": 21,
   "id": "d3fb9533",
   "metadata": {},
   "outputs": [
    {
     "data": {
      "text/plain": [
       "{'hostname': 'web01', 'region': 'us-east-1', 'status': 'active'}"
      ]
     },
     "execution_count": 21,
     "metadata": {},
     "output_type": "execute_result"
    }
   ],
   "source": [
    "## dict methods - get() , updte(), pop(), values,keys(),items()\n",
    "\n",
    "server_info"
   ]
  },
  {
   "cell_type": "code",
   "execution_count": 23,
   "id": "d8e8abf1",
   "metadata": {},
   "outputs": [
    {
     "data": {
      "text/plain": [
       "'us-east-1'"
      ]
     },
     "execution_count": 23,
     "metadata": {},
     "output_type": "execute_result"
    }
   ],
   "source": [
    "server_info.get('region')"
   ]
  },
  {
   "cell_type": "code",
   "execution_count": 27,
   "id": "93ae194f",
   "metadata": {},
   "outputs": [
    {
     "name": "stdout",
     "output_type": "stream",
     "text": [
      "{'hostname': 'web01', 'region': 'us-west-1', 'status': 'active'}\n"
     ]
    }
   ],
   "source": [
    "server_info_new={\n",
    "    'hostname':'web01',\n",
    "    'region':'us-west-1',\n",
    "    'status':'active'\n",
    "}\n",
    "server_info.update(server_info_new)\n",
    "\n",
    "print(server_info)"
   ]
  },
  {
   "cell_type": "code",
   "execution_count": 33,
   "id": "d024986c",
   "metadata": {},
   "outputs": [
    {
     "name": "stdout",
     "output_type": "stream",
     "text": [
      "{'hostname': 'web01', 'region': 'us-east-1', 'status': 'active', 'updated_on': '2025-01-09', 'Region': 'us-east-1'}\n"
     ]
    }
   ],
   "source": [
    "server_info_jan={\n",
    "    'hostname':'web01',\n",
    "    'region':'us-east-1',\n",
    "    'status':'active',\n",
    "    'updated_on': '2025-01-09'\n",
    "}\n",
    "server_info.update(server_info_jan)\n",
    "print(server_info)\n"
   ]
  },
  {
   "cell_type": "code",
   "execution_count": 36,
   "id": "0d6c528c",
   "metadata": {},
   "outputs": [
    {
     "name": "stdout",
     "output_type": "stream",
     "text": [
      "{'hostname': 'web01', 'region': 'us-east-1', 'status': 'active', 'updated_on': '2025-01-09'}\n"
     ]
    }
   ],
   "source": [
    "#pop -- remove the element\n",
    "server_info.pop('Region')\n",
    "print(server_info)"
   ]
  },
  {
   "cell_type": "code",
   "execution_count": 39,
   "id": "e51b6924",
   "metadata": {},
   "outputs": [
    {
     "name": "stdout",
     "output_type": "stream",
     "text": [
      "['hostname', 'region', 'status', 'updated_on']\n",
      "('hostname', 'region', 'status', 'updated_on')\n"
     ]
    }
   ],
   "source": [
    "a=list(server_info.keys())\n",
    "\n",
    "print(a)\n",
    "b=tuple(server_info.keys())\n",
    "print(b)"
   ]
  },
  {
   "cell_type": "code",
   "execution_count": 41,
   "id": "efd52d68",
   "metadata": {},
   "outputs": [
    {
     "data": {
      "text/plain": [
       "['web01', 'us-east-1', 'active', '2025-01-09']"
      ]
     },
     "execution_count": 41,
     "metadata": {},
     "output_type": "execute_result"
    }
   ],
   "source": [
    "list(server_info.values())"
   ]
  },
  {
   "cell_type": "code",
   "execution_count": 42,
   "id": "cad3d6f4",
   "metadata": {},
   "outputs": [
    {
     "data": {
      "text/plain": [
       "[('hostname', 'web01'),\n",
       " ('region', 'us-east-1'),\n",
       " ('status', 'active'),\n",
       " ('updated_on', '2025-01-09')]"
      ]
     },
     "execution_count": 42,
     "metadata": {},
     "output_type": "execute_result"
    }
   ],
   "source": [
    "list(server_info.items())"
   ]
  },
  {
   "cell_type": "code",
   "execution_count": null,
   "id": "066266f0",
   "metadata": {},
   "outputs": [
    {
     "data": {
      "text/plain": [
       "{'192.78.0.1',\n",
       " '192.78.0.19',\n",
       " '192.78.0.43',\n",
       " '192.78.6.1',\n",
       " '192.78.6.171',\n",
       " '192.78.6.34'}"
      ]
     },
     "execution_count": 43,
     "metadata": {},
     "output_type": "execute_result"
    }
   ],
   "source": [
    "#Set data type-unique elements,unordered,unindexed elements\n",
    "\n",
    "youtube_watched = [\"192.78.0.1\",\"192.78.6.1\",\"192.78.0.19\",\"192.78.6.171\",\"192.78.0.43\",\"192.78.6.34\",\"192.78.0.1\",\"192.78.6.1\"]\n",
    "\n",
    "set(youtube_watched)"
   ]
  },
  {
   "cell_type": "code",
   "execution_count": null,
   "id": "9d9afa40",
   "metadata": {},
   "outputs": [
    {
     "name": "stdout",
     "output_type": "stream",
     "text": [
      "{'app4', 'app3'}\n"
     ]
    }
   ],
   "source": [
    "#union(),intersection(),difference()\n",
    "\n",
    "all_servers={'app1','app2','app3','app4'}\n",
    "\n",
    "patched_servers={'app1','app2'}\n",
    "\n",
    "unpatched_servers=all_servers.difference(patched_servers)#we can also use - operator \n",
    "print(unpatched_servers)"
   ]
  },
  {
   "cell_type": "code",
   "execution_count": 48,
   "id": "bee16f84",
   "metadata": {},
   "outputs": [
    {
     "data": {
      "text/plain": [
       "{'web01', 'web02', 'web03'}"
      ]
     },
     "execution_count": 48,
     "metadata": {},
     "output_type": "execute_result"
    }
   ],
   "source": [
    "#add()\n",
    "\n",
    "monitored_hosts={'web01','web02'}\n",
    "new_host='web03'\n",
    "monitored_hosts.add(new_host)\n",
    "monitored_hosts"
   ]
  },
  {
   "cell_type": "code",
   "execution_count": null,
   "id": "c6a77fbb",
   "metadata": {},
   "outputs": [],
   "source": [
    "db_servers={'db1','db2','shared1'}\n",
    "app_servers={'app1','shared1'}\n",
    "\n",
    "common= db_servers.intersection(app_servers)\n",
    "\n",
    "diff= db_servers.difference(app_servers)\n",
    "\n",
    "print(common)\n",
    "print(diff)"
   ]
  }
 ],
 "metadata": {
  "kernelspec": {
   "display_name": "Python 3",
   "language": "python",
   "name": "python3"
  },
  "language_info": {
   "codemirror_mode": {
    "name": "ipython",
    "version": 3
   },
   "file_extension": ".py",
   "mimetype": "text/x-python",
   "name": "python",
   "nbconvert_exporter": "python",
   "pygments_lexer": "ipython3",
   "version": "3.12.0"
  }
 },
 "nbformat": 4,
 "nbformat_minor": 5
}
