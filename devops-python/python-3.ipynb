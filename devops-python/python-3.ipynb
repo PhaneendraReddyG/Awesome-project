{
 "cells": [
  {
   "cell_type": "code",
   "execution_count": 6,
   "id": "100e24df",
   "metadata": {},
   "outputs": [
    {
     "name": "stdout",
     "output_type": "stream",
     "text": [
      "process stopped\n",
      "101\n"
     ]
    }
   ],
   "source": [
    "## control structure -- to control program workflow or structure\n",
    "\"\"\"\n",
    "    conditional statements -- if,elif,else\n",
    "\n",
    "    unconditional statements -- continue,break,pass\n",
    "\n",
    "    looping statements -- for, while,\n",
    "\n",
    "\n",
    "\n",
    "\"\"\"\n",
    "server_id=101\n",
    "\n",
    "if server_id == 102:\n",
    "    print(\"process proceed\")\n",
    "else:\n",
    "    print(\"process stopped\")\n",
    "print(server_id)\n"
   ]
  },
  {
   "cell_type": "code",
   "execution_count": 22,
   "id": "2d3a7c65",
   "metadata": {},
   "outputs": [
    {
     "name": "stdout",
     "output_type": "stream",
     "text": [
      "appserver is healthy\n",
      "dbserver  its's down , please check \n",
      "webserver is healthy\n"
     ]
    }
   ],
   "source": [
    "##devops script - check the server and cpu utilization\n",
    "\n",
    "servers = [\n",
    "    {'name': 'appserver', 'cpu':'67','status':'up'},\n",
    "    {'name': 'dbserver', 'cpu':'96','status':'down'},\n",
    "    {'name': 'webserver', 'cpu':'87','status':'up'}\n",
    "]\n",
    "\n",
    "for server in servers:\n",
    "    if server['status'] != 'up':\n",
    "        print(f\"{ server['name']}  its's down , please check \")\n",
    "    elif server['cpu'] > '90':\n",
    "        print(f\"{server['name']} it's critical high cpu,{server['cpu']}\")\n",
    "    else:\n",
    "        print(f\"{server['name']} is healthy\")"
   ]
  },
  {
   "cell_type": "code",
   "execution_count": 24,
   "id": "b6cb396e",
   "metadata": {},
   "outputs": [
    {
     "name": "stdout",
     "output_type": "stream",
     "text": [
      "starting service\n",
      "service running\n",
      "error found in logs stop monitoring\n"
     ]
    }
   ],
   "source": [
    "###break statemet -- stop the log monitoring when error found and i need to send an email to developer\n",
    "\n",
    "\n",
    "logs=[\n",
    "    \"starting service\",\n",
    "    \"service running\",\n",
    "    \"ERROR: out of memory\",\n",
    "    \"continuing the service,,,\"\n",
    "]\n",
    "\n",
    "for line in logs:\n",
    "    if \"ERROR\" in line:\n",
    "        print(\"error found in logs stop monitoring\")\n",
    "        break\n",
    "    print(line)"
   ]
  },
  {
   "cell_type": "code",
   "execution_count": 27,
   "id": "4d077022",
   "metadata": {},
   "outputs": [
    {
     "name": "stdout",
     "output_type": "stream",
     "text": [
      "it's valid transaction - money 200\n",
      "it's invalid transaction- money -20\n"
     ]
    }
   ],
   "source": [
    "transaction = [200,-20,30,50,0] ## if we invalid transaction, stop the iteration\n",
    "\n",
    "for amount in transaction:\n",
    "    if amount < 0:\n",
    "        print(f\"it's invalid transaction- money {amount}\")\n",
    "        break\n",
    "    else:\n",
    "        print(f\"it's valid transaction - money {amount}\")"
   ]
  },
  {
   "cell_type": "code",
   "execution_count": 31,
   "id": "ad493509",
   "metadata": {},
   "outputs": [
    {
     "name": "stdout",
     "output_type": "stream",
     "text": [
      "starting service\n",
      "service running\n",
      "error found stop the monitoring\n"
     ]
    }
   ],
   "source": [
    "## continue - skip the current iteration -- ignore warning msg in log file, if error comes stop it\n",
    "\n",
    "logs=[\n",
    "    \"starting service\",\n",
    "    \"WARNING : service port number already running\",\n",
    "    \"service running\",\n",
    "    \"ERROR: out of memory\",\n",
    "    \"WARNING : please check the disk usage\",\n",
    "    \"continuing the service,,,\"\n",
    "]\n",
    "\n",
    "for line in logs:\n",
    "    if \"WARNING\" in line:\n",
    "        continue\n",
    "    elif \"ERROR\" in line:\n",
    "        print(\"error found stop the monitoring\")\n",
    "        break\n",
    "    print(line)"
   ]
  },
  {
   "cell_type": "code",
   "execution_count": null,
   "id": "ac8fc218",
   "metadata": {},
   "outputs": [],
   "source": [
    "\n",
    "## pass - no operation (placeholder )- create a empty function , empty class , empty method (initially cannot implemented anythong and will be implemeted later )\n",
    "\n",
    "def server_config (config):\n",
    "    pass ## to be implemented later\n",
    "\n"
   ]
  },
  {
   "cell_type": "code",
   "execution_count": 1,
   "id": "b70b10fa",
   "metadata": {},
   "outputs": [
    {
     "name": "stdout",
     "output_type": "stream",
     "text": [
      "192.0.10.11 : appserver\n",
      "192.0.11.10 : dbserver\n",
      "192.0.11.18 : webserver\n"
     ]
    }
   ],
   "source": [
    "### while loop statements\n",
    "'''\n",
    "list, tuple, string(sequence) and dictionary,set (number of iterations) -- for loop \n",
    "'''\n",
    "\n",
    "##dictionary of list\n",
    "\n",
    "ip_address_list_dict= {\n",
    "    '192.0.10.11':['server01','80','up'],\n",
    "    '192.0.11.10':['server02','65','up'],\n",
    "    '192.0.11.18':['server03','90','down']\n",
    "}\n",
    "\n",
    "##dict of dict\n",
    "ip_address_new= {\n",
    "    '192.0.10.11':{'name': 'appserver', 'cpu':'67','status':'up'},\n",
    "    '192.0.11.10':{'name': 'dbserver', 'cpu':'96','status':'down'},\n",
    "    '192.0.11.18':{'name': 'webserver', 'cpu':'87','status':'up'}\n",
    "\n",
    "}\n",
    "\n",
    "# for ip in ip_address_list_dict:\n",
    "#     print(f\"{ip} : {ip_address_list_dict[ip][0]}\")\n",
    "\n",
    "for ip in ip_address_new:\n",
    "    print(f\"{ip} : {ip_address_new[ip]['name']}\")\n"
   ]
  },
  {
   "cell_type": "code",
   "execution_count": 4,
   "id": "41829ccc",
   "metadata": {},
   "outputs": [
    {
     "name": "stdout",
     "output_type": "stream",
     "text": [
      "192.168.0.21 : web01\n",
      "192.168.0.32 : web02\n",
      "192.168.0.20 : web03\n",
      "192.168.0.21:web01\n",
      "192.168.0.32:web02\n",
      "192.168.0.20:web03\n"
     ]
    }
   ],
   "source": [
    "# looping statements\n",
    " \n",
    "# list, tuple, string (sequence) and dict, set( number of iterations ) - for loop\n",
    " \n",
    "# dict of list\n",
    "server_details_dict_list={\n",
    "    '192.168.0.21':['web01',80,'up'],\n",
    "    '192.168.0.32':['web02',65,'up'],\n",
    "    '192.168.0.20':['web03',90,'down']\n",
    "}\n",
    " \n",
    "# dict of dict\n",
    "server_details_new={\n",
    "    '192.168.0.21':{'name':'web01','cpu':80,'status':'up'},\n",
    "    '192.168.0.32':{'name':'web02','cpu':65,'status':'up'},\n",
    "    '192.168.0.20':{'name':'web03','cpu':90,'status':'down'}\n",
    "}\n",
    " \n",
    "for server_details in server_details_dict_list:\n",
    "    print(f\"{server_details} : {server_details_dict_list[server_details][0]}\")\n",
    "   \n",
    "   \n",
    "for server_detail in server_details_new:\n",
    "    print(f\"{server_detail}:{server_details_new[server_detail]['name']}\")\n",
    " "
   ]
  }
 ],
 "metadata": {
  "kernelspec": {
   "display_name": "Python 3",
   "language": "python",
   "name": "python3"
  },
  "language_info": {
   "codemirror_mode": {
    "name": "ipython",
    "version": 3
   },
   "file_extension": ".py",
   "mimetype": "text/x-python",
   "name": "python",
   "nbconvert_exporter": "python",
   "pygments_lexer": "ipython3",
   "version": "3.12.0"
  }
 },
 "nbformat": 4,
 "nbformat_minor": 5
}
