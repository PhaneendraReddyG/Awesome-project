{
 "cells": [
  {
   "cell_type": "code",
   "execution_count": 15,
   "id": "ad4b0512",
   "metadata": {},
   "outputs": [
    {
     "name": "stdout",
     "output_type": "stream",
     "text": [
      "['404', '500']\n"
     ]
    }
   ],
   "source": [
    "##1.\n",
    "\n",
    "logs = [\"INFO:Deployment started\", \"ERROR:404 Service not found\", \"WARNING:Memory high\",\n",
    "\"ERROR:500 Internal Server Error\", \"INFO:Deployment completed\"]\n",
    "\n",
    "error_codes=[  ]\n",
    "\n",
    "for line in logs:\n",
    "    if 'ERROR' in line:\n",
    "        parts = line.split(':')[1]\n",
    "        code = parts.split()[0]\n",
    "        error_codes.append(code)\n",
    "print(error_codes)\n",
    "    "
   ]
  },
  {
   "cell_type": "code",
   "execution_count": null,
   "id": "c66992a3",
   "metadata": {},
   "outputs": [
    {
     "name": "stdout",
     "output_type": "stream",
     "text": [
      "[503, 500, 404]\n"
     ]
    }
   ],
   "source": [
    "###2.Scenario: Flatten nested health check results and filter out non-200 responses.\n",
    "\n",
    "health_checks = [[200, 503, 200], [500, 200], [200, 404]]\n",
    "\n",
    "failed_healthchecks = []\n",
    "\n",
    "for line in health_checks:\n",
    "    for error in line:\n",
    "        if error != 200:\n",
    "            failed_healthchecks.append(error)\n",
    "print(failed_healthchecks)\n"
   ]
  },
  {
   "cell_type": "code",
   "execution_count": 35,
   "id": "d6fd588f",
   "metadata": {},
   "outputs": [
    {
     "name": "stdout",
     "output_type": "stream",
     "text": [
      "{'server2': 82, 'server3': 91}\n"
     ]
    }
   ],
   "source": [
    "##Scenario: Filter out servers using more than 80% disk.\n",
    "\n",
    "disk_usage = {\n",
    "\"server1\": 75,\n",
    "\"server2\": 82,\n",
    "\"server3\": 91,\n",
    "\"server4\": 60\n",
    "}\n",
    "\n",
    "high_usage = {key: value for key, value in disk_usage.items() if value > 80}\n",
    "\n",
    "print(high_usage)\n"
   ]
  },
  {
   "cell_type": "code",
   "execution_count": 49,
   "id": "0425f1c3",
   "metadata": {},
   "outputs": [
    {
     "name": "stdout",
     "output_type": "stream",
     "text": [
      "{'us-east': {'db': 89}, 'eu-west': {'auth': 85, 'api': 87}}\n"
     ]
    }
   ],
   "source": [
    "##Scenario: Extract services from each region with uptime < 90%.\n",
    "\n",
    "uptime_data = {\n",
    "\"us-east\": {\"auth\": 98, \"db\": 89, \"api\": 92},\n",
    "\"eu-west\": {\"auth\": 85, \"db\": 91, \"api\": 87}\n",
    "}\n",
    "\n",
    "ser_region ={ \n",
    "            region: {svc: uptime for svc, uptime in services.items() if uptime < 90}\n",
    "            for region,services in uptime_data.items()\n",
    "            if any(uptime < 90 for uptime in services.values())\n",
    "}\n",
    "print(ser_region)\n"
   ]
  },
  {
   "cell_type": "code",
   "execution_count": 52,
   "id": "378011f4",
   "metadata": {},
   "outputs": [
    {
     "name": "stdout",
     "output_type": "stream",
     "text": [
      "{'404', '500', '503'}\n"
     ]
    }
   ],
   "source": [
    "##Scenario: Collect all unique error codes from logs.\n",
    "\n",
    "logs = [\n",
    "\"ERROR:404\",\n",
    "\"ERROR:500\",\n",
    "\"ERROR:404\",\n",
    "\"WARNING:300\",\n",
    "\"ERROR:503\",\n",
    "\"ERROR:500\"\n",
    "]\n",
    "\n",
    "unique_error_codes = { line.split(\":\")[1]  for line in logs  if line.startswith(\"ERROR\") }\n",
    "print(unique_error_codes)"
   ]
  },
  {
   "cell_type": "code",
   "execution_count": null,
   "id": "98ddaa19",
   "metadata": {},
   "outputs": [
    {
     "ename": "SyntaxError",
     "evalue": "invalid syntax (3206056965.py, line 11)",
     "output_type": "error",
     "traceback": [
      "  \u001b[36mCell\u001b[39m\u001b[36m \u001b[39m\u001b[32mIn[53]\u001b[39m\u001b[32m, line 11\u001b[39m\n\u001b[31m    \u001b[39m\u001b[31mlatecy_data_new ={    for svc,metric in latency_data.items()\u001b[39m\n                          ^\n\u001b[31mSyntaxError\u001b[39m\u001b[31m:\u001b[39m invalid syntax\n"
     ]
    }
   ],
   "source": [
    "##Dict of Dict – Service Latency Metrics\n",
    "# ● Scenario: Identify services with latency > 200ms.\n",
    "# ● Input:\n",
    "# Python\n",
    "latency_data = {\n",
    "\"svc1\": {\"avg\": 180, \"max\": 220},\n",
    "\"svc2\": {\"avg\": 150, \"max\": 160},\n",
    "\"svc3\": {\"avg\": 210, \"max\": 300}\n",
    "}\n",
    "\n",
    "latecy_data_new ={    \n",
    "\n",
    "    svc: for key,value in metric.item()\n",
    "    for svc,metric in latency_data.items() \n",
    "    if any(uptime < 90 for uptime in services.values())\n",
    "\n",
    "    \n",
    "}\n"
   ]
  }
 ],
 "metadata": {
  "kernelspec": {
   "display_name": "Python 3",
   "language": "python",
   "name": "python3"
  },
  "language_info": {
   "codemirror_mode": {
    "name": "ipython",
    "version": 3
   },
   "file_extension": ".py",
   "mimetype": "text/x-python",
   "name": "python",
   "nbconvert_exporter": "python",
   "pygments_lexer": "ipython3",
   "version": "3.12.0"
  }
 },
 "nbformat": 4,
 "nbformat_minor": 5
}
