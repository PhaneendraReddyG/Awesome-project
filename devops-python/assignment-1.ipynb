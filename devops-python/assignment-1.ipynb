{
 "cells": [
  {
   "cell_type": "code",
   "execution_count": 15,
   "id": "ad4b0512",
   "metadata": {},
   "outputs": [
    {
     "name": "stdout",
     "output_type": "stream",
     "text": [
      "['404', '500']\n"
     ]
    }
   ],
   "source": [
    "##1.\n",
    "\n",
    "logs = [\"INFO:Deployment started\", \"ERROR:404 Service not found\", \"WARNING:Memory high\",\n",
    "\"ERROR:500 Internal Server Error\", \"INFO:Deployment completed\"]\n",
    "\n",
    "error_codes=[  ]\n",
    "\n",
    "for line in logs:\n",
    "    if 'ERROR' in line:\n",
    "        parts = line.split(':')[1]\n",
    "        code = parts.split()[0]\n",
    "        error_codes.append(code)\n",
    "print(error_codes)\n",
    "    "
   ]
  },
  {
   "cell_type": "code",
   "execution_count": null,
   "id": "c66992a3",
   "metadata": {},
   "outputs": [
    {
     "name": "stdout",
     "output_type": "stream",
     "text": [
      "[503, 500, 404]\n"
     ]
    }
   ],
   "source": [
    "###2.Scenario: Flatten nested health check results and filter out non-200 responses.\n",
    "\n",
    "health_checks = [[200, 503, 200], [500, 200], [200, 404]]\n",
    "\n",
    "failed_healthchecks = []\n",
    "\n",
    "for line in health_checks:\n",
    "    for error in line:\n",
    "        if error != 200:\n",
    "            failed_healthchecks.append(error)\n",
    "print(failed_healthchecks)\n"
   ]
  },
  {
   "cell_type": "code",
   "execution_count": 35,
   "id": "d6fd588f",
   "metadata": {},
   "outputs": [
    {
     "name": "stdout",
     "output_type": "stream",
     "text": [
      "{'server2': 82, 'server3': 91}\n"
     ]
    }
   ],
   "source": [
    "##Scenario: Filter out servers using more than 80% disk.\n",
    "\n",
    "disk_usage = {\n",
    "\"server1\": 75,\n",
    "\"server2\": 82,\n",
    "\"server3\": 91,\n",
    "\"server4\": 60\n",
    "}\n",
    "\n",
    "high_usage = {key: value for key, value in disk_usage.items() if value > 80}\n",
    "\n",
    "print(high_usage)\n"
   ]
  },
  {
   "cell_type": "code",
   "execution_count": 49,
   "id": "0425f1c3",
   "metadata": {},
   "outputs": [
    {
     "name": "stdout",
     "output_type": "stream",
     "text": [
      "{'us-east': {'db': 89}, 'eu-west': {'auth': 85, 'api': 87}}\n"
     ]
    }
   ],
   "source": [
    "##Scenario: Extract services from each region with uptime < 90%.\n",
    "\n",
    "uptime_data = {\n",
    "\"us-east\": {\"auth\": 98, \"db\": 89, \"api\": 92},\n",
    "\"eu-west\": {\"auth\": 85, \"db\": 91, \"api\": 87}\n",
    "}\n",
    "\n",
    "ser_region ={ \n",
    "            region: {svc: uptime for svc, uptime in services.items() if uptime < 90}\n",
    "            for region,services in uptime_data.items()\n",
    "            if any(uptime < 90 for uptime in services.values())\n",
    "}\n",
    "print(ser_region)\n"
   ]
  },
  {
   "cell_type": "code",
   "execution_count": 52,
   "id": "378011f4",
   "metadata": {},
   "outputs": [
    {
     "name": "stdout",
     "output_type": "stream",
     "text": [
      "{'404', '500', '503'}\n"
     ]
    }
   ],
   "source": [
    "##Scenario: Collect all unique error codes from logs.\n",
    "\n",
    "logs = [\n",
    "\"ERROR:404\",\n",
    "\"ERROR:500\",\n",
    "\"ERROR:404\",\n",
    "\"WARNING:300\",\n",
    "\"ERROR:503\",\n",
    "\"ERROR:500\"\n",
    "]\n",
    "\n",
    "unique_error_codes = { line.split(\":\")[1]  for line in logs  if line.startswith(\"ERROR\") }\n",
    "print(unique_error_codes)"
   ]
  },
  {
   "cell_type": "code",
   "execution_count": 6,
   "id": "98ddaa19",
   "metadata": {},
   "outputs": [
    {
     "data": {
      "text/plain": [
       "{'svc1': {'avg': 180, 'max': 220}, 'svc3': {'avg': 210, 'max': 300}}"
      ]
     },
     "execution_count": 6,
     "metadata": {},
     "output_type": "execute_result"
    }
   ],
   "source": [
    "##Dict of Dict – Service Latency Metrics\n",
    "# ● Scenario: Identify services with latency > 200ms.\n",
    "# ● Input:\n",
    "# Python\n",
    "latency_data = {\n",
    "\"svc1\": {\"avg\": 180, \"max\": 220},\n",
    "\"svc2\": {\"avg\": 150, \"max\": 160},\n",
    "\"svc3\": {\"avg\": 210, \"max\": 300}\n",
    "}\n",
    "\n",
    "latency_data_new = {\n",
    "    svc: metric\n",
    "    for svc, metric in latency_data.items()\n",
    "    if any(v > 200 for v in metric.values())\n",
    "}\n",
    "\n",
    "latency_data_new\n"
   ]
  },
  {
   "cell_type": "code",
   "execution_count": 9,
   "id": "9018e8fa",
   "metadata": {},
   "outputs": [
    {
     "name": "stdout",
     "output_type": "stream",
     "text": [
      "{'High': {'Disk', 'CPU'}, 'Medium': {'Network'}, 'Critical': {'Memory'}}\n"
     ]
    }
   ],
   "source": [
    "# Set & Dict Comprehension – Unique Alert Grouping\n",
    "# ● Scenario: Group unique alert types by severity.\n",
    "# ● Input:\n",
    "# Python\n",
    "alerts = [\n",
    "{\"type\": \"CPU\", \"severity\": \"High\"},\n",
    "{\"type\": \"Memory\", \"severity\": \"Critical\"},\n",
    "{\"type\": \"Disk\", \"severity\": \"High\"},\n",
    "{\"type\": \"CPU\", \"severity\": \"High\"},\n",
    "{\"type\": \"Network\", \"severity\": \"Medium\"}\n",
    "]\n",
    "\n",
    "\n",
    "\n",
    "alerts_unique = {\n",
    "    sev: {a[\"type\"] for a in alerts if a[\"severity\"] == sev}\n",
    "    for sev in {a[\"severity\"] for a in alerts}\n",
    "}\n",
    "\n",
    "print(alerts_unique)\n",
    "\n",
    "\n"
   ]
  }
 ],
 "metadata": {
  "kernelspec": {
   "display_name": "Python 3",
   "language": "python",
   "name": "python3"
  },
  "language_info": {
   "codemirror_mode": {
    "name": "ipython",
    "version": 3
   },
   "file_extension": ".py",
   "mimetype": "text/x-python",
   "name": "python",
   "nbconvert_exporter": "python",
   "pygments_lexer": "ipython3",
   "version": "3.12.0"
  }
 },
 "nbformat": 4,
 "nbformat_minor": 5
}
