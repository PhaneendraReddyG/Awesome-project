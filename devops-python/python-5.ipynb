{
 "cells": [
  {
   "cell_type": "code",
   "execution_count": 5,
   "id": "d30d7ba2",
   "metadata": {},
   "outputs": [
    {
     "name": "stdout",
     "output_type": "stream",
     "text": [
      "1\n",
      "4\n",
      "9\n",
      "16\n",
      "25\n",
      "[1, 4, 9, 16, 25]\n"
     ]
    }
   ],
   "source": [
    "##comprehension - concise way to create a collections  -list,dict,set\n",
    "\n",
    "\n",
    "# instance_name = [expression for item in iterable if condition]\n",
    "\n",
    "# instance_name = { key:value for key,value in iterables.items()}\n",
    "\n",
    "elements = [1,2,3,4,5]\n",
    "\n",
    "sqr_elements=[]\n",
    "\n",
    "for element in elements:\n",
    "    sqr_num=element**2\n",
    "    sqr_elements.append(sqr_num)\n",
    "    print(sqr_num)\n",
    "print(sqr_elements)\n"
   ]
  },
  {
   "cell_type": "code",
   "execution_count": 6,
   "id": "82f7e3b9",
   "metadata": {},
   "outputs": [
    {
     "name": "stdout",
     "output_type": "stream",
     "text": [
      "[1, 4, 9, 16, 25]\n"
     ]
    }
   ],
   "source": [
    "##comprehension way\n",
    "elements = [1,2,3,4,5]\n",
    "\n",
    "sqr_elements =[element**2 for element in elements]\n",
    "\n",
    "print(sqr_elements)"
   ]
  },
  {
   "cell_type": "code",
   "execution_count": 11,
   "id": "d1725b33",
   "metadata": {},
   "outputs": [
    {
     "name": "stdout",
     "output_type": "stream",
     "text": [
      "['frontend', 'database']\n"
     ]
    }
   ],
   "source": [
    "##failed jenkins jobs\n",
    "\n",
    "build_jobs=[\n",
    "    {\"job\":\"backend\",\"status\":\"active\"},\n",
    "    {\"job\":\"frontend\",\"status\":\"failed\"},\n",
    "    {\"job\":\"database\",\"status\":\"failed\"},\n",
    "]\n",
    "\n",
    "failed_jobs=[ job_info[\"job\"] for job_info in build_jobs if job_info[\"status\"]== 'failed' ]\n",
    "\n",
    "print(failed_jobs)"
   ]
  },
  {
   "cell_type": "code",
   "execution_count": 16,
   "id": "40a3f60a",
   "metadata": {},
   "outputs": [
    {
     "name": "stdout",
     "output_type": "stream",
     "text": [
      "[[90.0, 80.0, 70.0], [50.0, 60.0, 70.0], [40.0, 50.0, 60.0]]\n"
     ]
    }
   ],
   "source": [
    "##\n",
    "\n",
    "\n",
    "cpu_utilization=[\n",
    "    [0.9,0.8,0.7],\n",
    "    [0.5,0.6,0.7],\n",
    "    [0.4,0.5,0.6]\n",
    "    ]\n",
    "\n",
    "cpu_utilization_percentage=[ [(cpu*100) for cpu in row]  for row in cpu_utilization ]\n",
    "\n",
    "print(cpu_utilization_percentage)"
   ]
  },
  {
   "cell_type": "code",
   "execution_count": null,
   "id": "a1dd27cb",
   "metadata": {},
   "outputs": [],
   "source": [
    "##generating OS AND python combinations for test matrix\n",
    "\n"
   ]
  }
 ],
 "metadata": {
  "kernelspec": {
   "display_name": "Python 3",
   "language": "python",
   "name": "python3"
  },
  "language_info": {
   "codemirror_mode": {
    "name": "ipython",
    "version": 3
   },
   "file_extension": ".py",
   "mimetype": "text/x-python",
   "name": "python",
   "nbconvert_exporter": "python",
   "pygments_lexer": "ipython3",
   "version": "3.12.0"
  }
 },
 "nbformat": 4,
 "nbformat_minor": 5
}
