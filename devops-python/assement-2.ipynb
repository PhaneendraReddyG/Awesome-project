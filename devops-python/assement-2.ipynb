{
 "cells": [
  {
   "cell_type": "code",
   "execution_count": 14,
   "id": "6642eac7",
   "metadata": {},
   "outputs": [
    {
     "data": {
      "text/plain": [
       "['srv2', 'srv3']"
      ]
     },
     "execution_count": 14,
     "metadata": {},
     "output_type": "execute_result"
    }
   ],
   "source": [
    "'''\n",
    "Use Case 1: Server Health Monitoring\n",
    "Scenario: Monitor a list of servers and find those with CPU usage > 80%.\n",
    "Sample Input:\n",
    "Servers: [\"srv1\", \"srv2\", \"srv3\"]\n",
    "CPU Usage: [75, 85, 92]\n",
    "Sample Output:\n",
    "High CPU Servers: [\"srv2\", \"srv3\"]\n",
    "'''\n",
    "Servers=[\"srv1\", \"srv2\", \"srv3\"]\n",
    "CPU_Usage= [75, 85, 92]\n",
    "\n",
    "\n",
    "high_cpu = [server for server, utilization in zip(Servers, CPU_Usage) if utilization > 80]\n",
    "\n",
    "high_cpu"
   ]
  },
  {
   "cell_type": "code",
   "execution_count": 18,
   "id": "fb4ff666",
   "metadata": {},
   "outputs": [
    {
     "name": "stdout",
     "output_type": "stream",
     "text": [
      " All services running:True\n"
     ]
    }
   ],
   "source": [
    "'''\n",
    "Use Case 2: Deployment Status Summary\n",
    "Scenario: Check if all microservices in a release are running.\n",
    "Sample Input:\n",
    "Services: [\"auth\", \"payment\", \"inventory\"]\n",
    "Status: [\"running\", \"running\", \"running\"]\n",
    "Sample Output:\n",
    "All services running: True\n",
    "'''\n",
    "\n",
    "Services=[\"auth\", \"payment\", \"inventory\"]\n",
    "Status= [\"running\", \"running\", \"running\"]\n",
    "\n",
    "all_running = all(st == \"running\" for st in Status)\n",
    "\n",
    "print(f\" All services running:{all_running}\")"
   ]
  },
  {
   "cell_type": "code",
   "execution_count": 31,
   "id": "211f33c7",
   "metadata": {},
   "outputs": [
    {
     "data": {
      "text/plain": [
       "['ERROR: Connection failed', 'ERROR: Timeout']"
      ]
     },
     "execution_count": 31,
     "metadata": {},
     "output_type": "execute_result"
    }
   ],
   "source": [
    "'''\n",
    "\n",
    "Scenario: Extract only the error logs from a list of mixed logs.\n",
    "Sample Input:\n",
    "Logs: [\"INFO: Started\", \"ERROR: Connection failed\", \"INFO: Success\", \"ERROR: Timeout\"]\n",
    "Sample Output:\n",
    "Error Logs: [\"ERROR: Connection failed\", \"ERROR: Timeout\"]\n",
    "'''\n",
    "\n",
    "Logs=[\"INFO: Started\", \"ERROR: Connection failed\", \"INFO: Success\", \"ERROR: Timeout\"]\n",
    "\n",
    "output = [ line  for line in Logs if line.split(\":\",1)[0]==\"ERROR\" ]\n",
    "output\n"
   ]
  },
  {
   "cell_type": "code",
   "execution_count": 33,
   "id": "f8748e9c",
   "metadata": {},
   "outputs": [
    {
     "name": "stdout",
     "output_type": "stream",
     "text": [
      "['build-106', 'build-107', 'build-108', 'build-109', 'build-110']\n"
     ]
    }
   ],
   "source": [
    "'''\n",
    "Use Case 4: Build Version Generator\n",
    "Scenario: Create build tags for the next 5 builds starting from 105.\n",
    "Sample Input:\n",
    "Current build: 105\n",
    "Count: 5\n",
    "Sample Output:\n",
    "[\"build-106\", \"build-107\", \"build-108\", \"build-109\", \"build-110\"]\n",
    "\n",
    "'''\n",
    "current=105\n",
    "count=5\n",
    "tags = [f\"build-{n}\" for n in range(current + 1, current + count + 1)]\n",
    "\n",
    "print(tags)"
   ]
  },
  {
   "cell_type": "code",
   "execution_count": null,
   "id": "c8f43366",
   "metadata": {},
   "outputs": [
    {
     "data": {
      "text/plain": [
       "{'srv1': '192.168.1.1', 'srv2': '192.168.1.2', 'srv3': '192.168.1.3'}"
      ]
     },
     "execution_count": 34,
     "metadata": {},
     "output_type": "execute_result"
    }
   ],
   "source": [
    "'''\n",
    "Use Case 5: IP and Host Pairing\n",
    "Scenario: Combine server names and IP addresses into a dictionary.\n",
    "Sample Input:\n",
    "Servers: [\"srv1\", \"srv2\", \"srv3\"]\n",
    "IPs: [\"192.168.1.1\", \"192.168.1.2\", \"192.168.1.3\"]\n",
    "Sample Output:\n",
    "{\"srv1\": \"192.168.1.1\", \"srv2\": \"192.168.1.2\", \"srv3\": \"192.168.1.3\"}\n",
    "\n",
    "'''\n",
    "\n",
    "Servers= [\"srv1\", \"srv2\", \"srv3\"]\n",
    "IPs= [\"192.168.1.1\", \"192.168.1.2\", \"192.168.1.3\"]\n",
    "\n",
    "combine_dict = dict(zip(Servers,IPs))\n",
    "combine_dict"
   ]
  },
  {
   "cell_type": "code",
   "execution_count": 38,
   "id": "4a80c36a",
   "metadata": {},
   "outputs": [
    {
     "name": "stdout",
     "output_type": "stream",
     "text": [
      "Unique Failed Users: 3\n"
     ]
    }
   ],
   "source": [
    "'''\n",
    "Use Case 6: User Authentication Logs\n",
    "Scenario: A security script needs to count the number of unique users who failed to log in to\n",
    "a service.\n",
    "Sample Input:\n",
    "Failed Attempts Log: [\"userA\", \"userB\", \"userA\", \"userC\", \"userB\", \"userA\"]\n",
    "Sample Output:\n",
    "Unique Failed Users: 3\n",
    "\n",
    "'''\n",
    "\n",
    "Failed_Attempts_Log= [\"userA\", \"userB\", \"userA\", \"userC\", \"userB\", \"userA\"]\n",
    "\n",
    "user_count = len(set(Failed_Attempts_Log))\n",
    "\n",
    "print(f\"Unique Failed Users: {user_count}\")\n"
   ]
  },
  {
   "cell_type": "code",
   "execution_count": 45,
   "id": "227fdbe2",
   "metadata": {},
   "outputs": [
    {
     "name": "stdout",
     "output_type": "stream",
     "text": [
      "{'PORT': '8080', 'ENV': 'prod', 'WORKERS': '4'}\n"
     ]
    }
   ],
   "source": [
    "'''\n",
    "Use Case 7: Configuration File Parsing\n",
    "Scenario: A deployment script reads a list of key-value pairs from a configuration file and\n",
    "needs to store them in a dictionary for easy access.\n",
    "Sample Input:\n",
    "Config File Lines: [\"PORT=8080\", \"ENV=prod\", \"WORKERS=4\"]\n",
    "Sample Output:\n",
    "Config Dictionary: {\"PORT\": \"8080\", \"ENV\": \"prod\", \"WORKERS\": \"4\"\n",
    "\n",
    "'''\n",
    "\n",
    "Config_Lines= [\"PORT=8080\", \"ENV=prod\", \"WORKERS=4\"]\n",
    "\n",
    "config_dict = dict(line.split(\"=\", 1) for line in Config_Lines)\n",
    "\n",
    "print(config_dict)\n"
   ]
  },
  {
   "cell_type": "code",
   "execution_count": null,
   "id": "4979652b",
   "metadata": {},
   "outputs": [
    {
     "name": "stdout",
     "output_type": "stream",
     "text": [
      "At least one pod running: True\n"
     ]
    }
   ],
   "source": [
    "'''\n",
    "Use Case 8: Deployment Rollout Checker\n",
    "Scenario: During a rolling update, a script needs to check if at least one new pod has\n",
    "successfully started before proceeding with the next step.\n",
    "Sample Input:\n",
    "Pod Statuses: [\"pending\", \"pending\", \"running\", \"error\"]\n",
    "Sample Output:\n",
    "At least one pod running: True\n",
    "\n",
    "'''\n",
    "\n",
    "\n",
    "\n",
    "Pod_Statuses=[\"pending\", \"pending\", \"running\", \"error\"]\n",
    "\n",
    "has_running = any(st == \"running\" for st in Pod_Statuses)\n",
    "print(f\"At least one pod running: {has_running}\")\n",
    "\n"
   ]
  },
  {
   "cell_type": "code",
   "execution_count": 50,
   "id": "6ebf69f4",
   "metadata": {},
   "outputs": [
    {
     "name": "stdout",
     "output_type": "stream",
     "text": [
      "Average CPU Usage : 61.5\n"
     ]
    }
   ],
   "source": [
    "'''\n",
    "Use Case 9: CPU Usage Aggregation\n",
    "Scenario: A monitoring tool collects CPU usage data from several servers over time and\n",
    "needs to calculate the average CPU usage across all servers.\n",
    "Sample Input:\n",
    "CPU Usage Data: [55, 62, 71, 58]\n",
    "Sample Output:\n",
    "Average CPU Usage: 61.5\n",
    "'''\n",
    "\n",
    "CPU_Usage_Data= [55, 62, 71, 58]\n",
    "\n",
    "length_of_cpus = len(CPU_Usage_Data)\n",
    "\n",
    "a_cpu = 0\n",
    "\n",
    "for cpu in CPU_Usage_Data:\n",
    "    a_cpu += cpu\n",
    "\n",
    "avg_cpu = a_cpu / length_of_cpus\n",
    "\n",
    "print(f\"Average CPU Usage : {avg_cpu}\")\n"
   ]
  },
  {
   "cell_type": "code",
   "execution_count": 55,
   "id": "2dbefa3b",
   "metadata": {},
   "outputs": [
    {
     "name": "stdout",
     "output_type": "stream",
     "text": [
      "[('webserver', '10.0.0.1'), ('dbserver', '10.0.0.2'), ('cacheserver', '10.0.0.3')]\n"
     ]
    }
   ],
   "source": [
    "'''\n",
    "Use Case 10: Server IP Pairing\n",
    "Scenario: A script needs to combine server hostnames and their corresponding IP\n",
    "addresses from two separate lists into a single list of tuples.\n",
    "Sample Input:\n",
    "Hostnames: [\"webserver\", \"dbserver\", \"cacheserver\"]\n",
    "IPs: [\"10.0.0.1\", \"10.0.0.2\", \"10.0.0.3\"]\n",
    "Sample Output:\n",
    "Paired Servers: [(\"webserver\", \"10.0.0.1\"), (\"dbserver\", \"10.0.0.2\"), (\"cacheserver\",\n",
    "\"10.0.0.3\")\n",
    "'''\n",
    "\n",
    "Hostnames= [\"webserver\", \"dbserver\", \"cacheserver\"]\n",
    "IPs= [\"10.0.0.1\", \"10.0.0.2\", \"10.0.0.3\"]\n",
    "\n",
    "new_data =list(zip(Hostnames,IPs))\n",
    "print(new_data)"
   ]
  }
 ],
 "metadata": {
  "kernelspec": {
   "display_name": "Python 3",
   "language": "python",
   "name": "python3"
  },
  "language_info": {
   "codemirror_mode": {
    "name": "ipython",
    "version": 3
   },
   "file_extension": ".py",
   "mimetype": "text/x-python",
   "name": "python",
   "nbconvert_exporter": "python",
   "pygments_lexer": "ipython3",
   "version": "3.12.0"
  }
 },
 "nbformat": 4,
 "nbformat_minor": 5
}
