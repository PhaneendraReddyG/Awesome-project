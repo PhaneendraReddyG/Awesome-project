{
 "cells": [
  {
   "cell_type": "code",
   "execution_count": 6,
   "id": "8e655250",
   "metadata": {},
   "outputs": [
    {
     "name": "stdout",
     "output_type": "stream",
     "text": [
      "The server is down. will check after 5 seconds\n",
      "Ther server is up,, stop checking\n"
     ]
    }
   ],
   "source": [
    "##function  - to define a block of code that can be used, perform a single action or task at a time\n",
    "\n",
    "\n",
    "def check_server_up():\n",
    "\n",
    "\n",
    "    import time\n",
    "    server_up = False\n",
    "\n",
    "    while not server_up:\n",
    "        user_input = input(\"is the  server up ??? (yes/no)\").strip().lower()\n",
    "\n",
    "        if user_input == 'yes':\n",
    "            server_up = True\n",
    "            print(\"Ther server is up,, stop checking\")\n",
    "\n",
    "        else:\n",
    "            print(\"The server is down. will check after 5 seconds\")\n",
    "            time.sleep(5)\n",
    "check_server_up()\n"
   ]
  },
  {
   "cell_type": "code",
   "execution_count": 11,
   "id": "ff1900df",
   "metadata": {},
   "outputs": [
    {
     "name": "stdout",
     "output_type": "stream",
     "text": [
      "file does not exists\n"
     ]
    }
   ],
   "source": [
    "\n",
    "\n",
    "import os\n",
    "\n",
    "def file_exists(file_path):\n",
    "    return os.path.isfile(file_path)\n",
    "\n",
    "\n",
    "if file_exists(\"python-7.ipynb\"):\n",
    "\n",
    "    print(\"file is exists in the mentioned path\")\n",
    "else:\n",
    "    print(\"file does not exists\")"
   ]
  },
  {
   "cell_type": "code",
   "execution_count": 14,
   "id": "75312b44",
   "metadata": {},
   "outputs": [
    {
     "name": "stdout",
     "output_type": "stream",
     "text": [
      "disk usage ==45.00%\n"
     ]
    }
   ],
   "source": [
    "\"\"\"\"\n",
    "function prototype\n",
    "\n",
    "##with/without arguments and with/without return type\n",
    "\"\"\"\n",
    "#1. with arguments and with return type\n",
    "\n",
    "\n",
    "''' calculate disk usage'''\n",
    "\n",
    "def calculate_disk_usage(used, total):\n",
    "    return (used/total)*100\n",
    " \n",
    "usage=calculate_disk_usage(45,100)\n",
    "print(f\"disk usage =={usage:.2f}%\")"
   ]
  },
  {
   "cell_type": "code",
   "execution_count": 19,
   "id": "01004b9d",
   "metadata": {},
   "outputs": [
    {
     "name": "stdout",
     "output_type": "stream",
     "text": [
      "2025-08-08 16:49:04 starting deployment\n"
     ]
    }
   ],
   "source": [
    "####2.  without arguments and with return type\n",
    "import time\n",
    "def get_timestamp():\n",
    "    return time.strftime(\"%Y-%m-%d %H:%M:%S\")\n",
    "print(f\"{get_timestamp()} starting deployment\")\n",
    "\n"
   ]
  },
  {
   "cell_type": "code",
   "execution_count": 22,
   "id": "b02bd87e",
   "metadata": {},
   "outputs": [
    {
     "name": "stdout",
     "output_type": "stream",
     "text": [
      "apache is DOWN\n"
     ]
    }
   ],
   "source": [
    "####3.  with arguments and without return type   pass inputs, but don't need a return value\n",
    "\n",
    "def print_service_status(service_name,status):\n",
    "    print(f\"{service_name} is {'UP' if status  else 'DOWN'}\")\n",
    "\n",
    "print_service_status(\"apache\",False)\n"
   ]
  },
  {
   "cell_type": "code",
   "execution_count": 23,
   "id": "2fc84ca7",
   "metadata": {},
   "outputs": [
    {
     "name": "stdout",
     "output_type": "stream",
     "text": [
      "Deployment process started \n"
     ]
    }
   ],
   "source": [
    "####4.  without arguments and without return type   just need to perform an action without inputs,outputs\n",
    "\n",
    "\n",
    "def log_deployment_start():\n",
    "    print(\"Deployment process started \")\n",
    "log_deployment_start()"
   ]
  }
 ],
 "metadata": {
  "kernelspec": {
   "display_name": "Python 3",
   "language": "python",
   "name": "python3"
  },
  "language_info": {
   "codemirror_mode": {
    "name": "ipython",
    "version": 3
   },
   "file_extension": ".py",
   "mimetype": "text/x-python",
   "name": "python",
   "nbconvert_exporter": "python",
   "pygments_lexer": "ipython3",
   "version": "3.12.0"
  }
 },
 "nbformat": 4,
 "nbformat_minor": 5
}
