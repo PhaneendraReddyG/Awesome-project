{
 "cells": [
  {
   "cell_type": "code",
   "execution_count": null,
   "id": "ba41aee9",
   "metadata": {},
   "outputs": [
    {
     "name": "stdout",
     "output_type": "stream",
     "text": [
      "[1, 3, 5]\n"
     ]
    }
   ],
   "source": [
    "##map - to apply a single function to all the elements\n",
    "\n",
    "\n",
    "li = [1,2,4,3,5]\n",
    "li_new =[]\n",
    "\n",
    "def odd(elements):\n",
    "    for element in elements:\n",
    "        if element%2!=0:\n",
    "            li_new.append(element)\n",
    "odd(li)\n",
    "\n",
    "print(li_new)"
   ]
  },
  {
   "cell_type": "code",
   "execution_count": 6,
   "id": "a6162a00",
   "metadata": {},
   "outputs": [
    {
     "name": "stdout",
     "output_type": "stream",
     "text": [
      "[1, 4, 16, 9, 25]\n"
     ]
    }
   ],
   "source": [
    "li = [1,2,4,3,5]\n",
    "\n",
    "squr_elements = map(lambda element : element**2, li)\n",
    "\n",
    "print(list(squr_elements))"
   ]
  },
  {
   "cell_type": "code",
   "execution_count": 7,
   "id": "885131de",
   "metadata": {},
   "outputs": [
    {
     "name": "stdout",
     "output_type": "stream",
     "text": [
      "[0.6, 0.8, 0.83, 0.84, 0.9, 0.7]\n"
     ]
    }
   ],
   "source": [
    "## normaluze cpu values \n",
    "server_cpu_usages  = [60,80,83,84,90,70]\n",
    "\n",
    "normalized_cpu = map(lambda cpu_value: cpu_value/100, server_cpu_usages)\n",
    "print(list(normalized_cpu))"
   ]
  },
  {
   "cell_type": "code",
   "execution_count": 8,
   "id": "80a8158b",
   "metadata": {},
   "outputs": [
    {
     "name": "stdout",
     "output_type": "stream",
     "text": [
      "[1, 3, 5]\n"
     ]
    }
   ],
   "source": [
    "## filter (function(conditional format), iterables)\n",
    "\n",
    "li=[1,2,3,4,5]\n",
    "\n",
    "odd_element= filter(lambda element: element%2!=0,li)\n",
    "print(list(odd_element))"
   ]
  },
  {
   "cell_type": "code",
   "execution_count": null,
   "id": "6c38b408",
   "metadata": {},
   "outputs": [],
   "source": [
    "## filter server with usage >75\n",
    "\n"
   ]
  },
  {
   "cell_type": "code",
   "execution_count": 1,
   "id": "1c64d66d",
   "metadata": {},
   "outputs": [
    {
     "name": "stdout",
     "output_type": "stream",
     "text": [
      "15\n"
     ]
    }
   ],
   "source": [
    "##reduce function\n",
    "from functools import reduce\n",
    "\n",
    "li=[1,2,3,4,5]\n",
    "\n",
    "sum_elements= reduce(lambda a,b: a+b,li)\n",
    "print(sum_elements)\n",
    "\n",
    "\n"
   ]
  },
  {
   "cell_type": "code",
   "execution_count": null,
   "id": "7ba7046e",
   "metadata": {},
   "outputs": [
    {
     "name": "stdout",
     "output_type": "stream",
     "text": [
      "[{'name': 'web', 'status': 'active', 'usage': 120}, {'name': 'front', 'status': 'active', 'usage': 549}]\n",
      "[120, 549]\n"
     ]
    }
   ],
   "source": [
    "##combine map, filter ,reduce- sum disk usage only from active users\n",
    "\n",
    "\n",
    "servers=[\n",
    "    {'name':'web','status':'active','usage':120},\n",
    "    {'name':'app','status':'failed','usage':240},\n",
    "    {'name':'front','status':'active','usage':549}\n",
    "\n",
    "]\n",
    "\n",
    "active_usage=list(filter(lambda server: server['status'] == 'active',servers))\n",
    "\n",
    "server_usage = list(map(lambda active_server: active_server['usage'],active_usage ))\n",
    "\n",
    "\n",
    "total_active_usage= list()\n",
    "print(active_usage)\n",
    "\n",
    "print(server_usage)\n",
    "\n"
   ]
  },
  {
   "cell_type": "code",
   "execution_count": 10,
   "id": "947da530",
   "metadata": {},
   "outputs": [
    {
     "name": "stdout",
     "output_type": "stream",
     "text": [
      "[5432, 8080, 6379]\n"
     ]
    }
   ],
   "source": [
    "##extract port from the config\n",
    "\n",
    "configs = [ 'db_port=5432','web_port=8080','cache_port=6379']\n",
    "\n",
    "port_numbers=list(map(lambda config : int(config.split('=')[1]),configs))\n",
    "print(port_numbers)"
   ]
  }
 ],
 "metadata": {
  "kernelspec": {
   "display_name": "Python 3",
   "language": "python",
   "name": "python3"
  },
  "language_info": {
   "codemirror_mode": {
    "name": "ipython",
    "version": 3
   },
   "file_extension": ".py",
   "mimetype": "text/x-python",
   "name": "python",
   "nbconvert_exporter": "python",
   "pygments_lexer": "ipython3",
   "version": "3.12.0"
  }
 },
 "nbformat": 4,
 "nbformat_minor": 5
}
