{
 "cells": [
  {
   "cell_type": "code",
   "execution_count": null,
   "id": "db7bf838",
   "metadata": {},
   "outputs": [
    {
     "data": {
      "text/plain": [
       "[(1, 5), (2, 7), (3, 8), (4, 9)]"
      ]
     },
     "execution_count": 2,
     "metadata": {},
     "output_type": "execute_result"
    }
   ],
   "source": [
    "## zip and unzip\n",
    "\n",
    "#range()\n",
    "#enumerate\n",
    "#all(),any()\n",
    "#sorted()\n",
    "\n",
    "\n",
    "#zip - combine or merge the any kind of elements in list or tuple\n",
    "# combines elements  multiple iterables into tuples\n",
    "\n",
    "li = [1,2,3,4,5]\n",
    "\n",
    "li_new = [5,7,8,9]\n",
    "\n",
    "list(zip(li,li_new))\n"
   ]
  },
  {
   "cell_type": "code",
   "execution_count": null,
   "id": "e9fa6d01",
   "metadata": {},
   "outputs": [],
   "source": [
    "##unzip - unpacking the elements from zipped lists\n"
   ]
  },
  {
   "cell_type": "code",
   "execution_count": 9,
   "id": "59db1b3f",
   "metadata": {},
   "outputs": [
    {
     "name": "stdout",
     "output_type": "stream",
     "text": [
      "[(1, 'ERROR: Disk full'), (2, 'Warning: High CPU'), (3, 'Info: deployment successfull')]\n",
      "line1:ERROR: Disk full\n",
      "line2:Warning: High CPU\n",
      "line3:Info: deployment successfull\n"
     ]
    }
   ],
   "source": [
    "## enumerate function - it will return index as well as element.\n",
    "\n",
    "\n",
    "logs =[\"ERROR: Disk full\",\"Warning: High CPU\",\"Info: deployment successfull\"]\n",
    "\n",
    "\n",
    "print(list(enumerate(logs,start=1)))\n",
    "for line,log_info in enumerate(logs,start=1):\n",
    "    print(f\"line{line}:{log_info}\")\n"
   ]
  },
  {
   "cell_type": "code",
   "execution_count": 14,
   "id": "b35e8ae5",
   "metadata": {},
   "outputs": [
    {
     "name": "stdout",
     "output_type": "stream",
     "text": [
      "[('server3', 98), ('server1', 86), ('server2', 78)]\n"
     ]
    }
   ],
   "source": [
    "##sort the server CPU  usage to finde least and most loaded nodes\n",
    "\n",
    "server_cpu ={'server1':86,'server2':78,'server3':98}\n",
    "\n",
    "\n",
    "sorted_servers = sorted(server_cpu.items(),key=lambda server_info : server_info[1],reverse=True)\n",
    "\n",
    "print(sorted_servers)"
   ]
  },
  {
   "cell_type": "code",
   "execution_count": 20,
   "id": "a3d47e22",
   "metadata": {},
   "outputs": [
    {
     "name": "stdout",
     "output_type": "stream",
     "text": [
      "INFO:ALL servers are UP\n"
     ]
    }
   ],
   "source": [
    "#any() - atleast one True in th element\n",
    "\n",
    "server_status = ['True','False','True','False']\n",
    "\n",
    "#i want to chekc all the servers are UP\n",
    "\n",
    "if all( status for status in server_status):\n",
    "    print(\"INFO:ALL servers are UP\")\n",
    "\n"
   ]
  },
  {
   "cell_type": "code",
   "execution_count": 26,
   "id": "000cfbf3",
   "metadata": {},
   "outputs": [
    {
     "name": "stdout",
     "output_type": "stream",
     "text": [
      "helath check at 0 minutes\n",
      "helath check at 5 minutes\n",
      "helath check at 10 minutes\n",
      "helath check at 15 minutes\n",
      "helath check at 20 minutes\n",
      "helath check at 25 minutes\n",
      "helath check at 30 minutes\n"
     ]
    }
   ],
   "source": [
    "##range()\n",
    "# simulate health checks running 5 mins  in 30 mins\n",
    "\n",
    "for minute in range(0,31,5):\n",
    "    print(f\"helath check at {minute} minutes\")\n",
    "\n"
   ]
  },
  {
   "cell_type": "code",
   "execution_count": 33,
   "id": "bf6adb7d",
   "metadata": {},
   "outputs": [
    {
     "name": "stdout",
     "output_type": "stream",
     "text": [
      "cpu.1=86\n",
      "\n"
     ]
    }
   ],
   "source": [
    "## file handling \n",
    "\n",
    "'''\n",
    "file_instnace= \n",
    "'''\n",
    "##open a file()\n",
    "\n",
    "cpu_usage=open('cpu.log','r')\n",
    "print(cpu_usage.read())\n",
    "cpu_usage.close()\n",
    "\n",
    "\n"
   ]
  },
  {
   "cell_type": "code",
   "execution_count": 36,
   "id": "4dc3528e",
   "metadata": {},
   "outputs": [
    {
     "name": "stdout",
     "output_type": "stream",
     "text": [
      "19\n"
     ]
    }
   ],
   "source": [
    "## pythonic approch\n",
    "\n",
    "with open('cpu.log1','w') as cpu_usage:\n",
    "    print(cpu_usage.write(\"hello add new line1\"))"
   ]
  },
  {
   "cell_type": "code",
   "execution_count": 42,
   "id": "e72749d2",
   "metadata": {},
   "outputs": [
    {
     "name": "stdout",
     "output_type": "stream",
     "text": [
      "20\n"
     ]
    }
   ],
   "source": [
    "## pythonic approch\n",
    "\n",
    "with open('cpu.log','a') as cpu_usage:\n",
    "    print(cpu_usage.write(\"hello add new line10\"))"
   ]
  },
  {
   "cell_type": "code",
   "execution_count": null,
   "id": "b419db0f",
   "metadata": {},
   "outputs": [
    {
     "name": "stdout",
     "output_type": "stream",
     "text": [
      "0\n",
      "5\n"
     ]
    }
   ],
   "source": [
    "## pythonic approch\n",
    "\n",
    "with open('cpu.log','w') as cpu_usage:\n",
    "    print(cpu_usage.tell())\n",
    "    print(cpu_usage.write( \"hello\"))\n",
    "    "
   ]
  }
 ],
 "metadata": {
  "kernelspec": {
   "display_name": "Python 3",
   "language": "python",
   "name": "python3"
  },
  "language_info": {
   "codemirror_mode": {
    "name": "ipython",
    "version": 3
   },
   "file_extension": ".py",
   "mimetype": "text/x-python",
   "name": "python",
   "nbconvert_exporter": "python",
   "pygments_lexer": "ipython3",
   "version": "3.12.0"
  }
 },
 "nbformat": 4,
 "nbformat_minor": 5
}
