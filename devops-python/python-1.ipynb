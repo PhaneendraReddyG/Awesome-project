{
 "cells": [
  {
   "cell_type": "code",
   "execution_count": 6,
   "id": "e5cb802e",
   "metadata": {},
   "outputs": [
    {
     "name": "stdout",
     "output_type": "stream",
     "text": [
      "Hello World\n"
     ]
    }
   ],
   "source": [
    "print(\"Hello World\")"
   ]
  },
  {
   "cell_type": "code",
   "execution_count": 7,
   "id": "50c3de3f",
   "metadata": {},
   "outputs": [
    {
     "name": "stdout",
     "output_type": "stream",
     "text": [
      "<class 'int'>\n",
      "<class 'float'>\n"
     ]
    }
   ],
   "source": [
    "cpu = 100\n",
    "print(type(cpu))\n",
    "\n",
    "memory = 100.0\n",
    "print(type(memory))\n",
    "\n"
   ]
  },
  {
   "cell_type": "code",
   "execution_count": 8,
   "id": "24f094ed",
   "metadata": {},
   "outputs": [
    {
     "name": "stdout",
     "output_type": "stream",
     "text": [
      "<class 'str'>\n"
     ]
    }
   ],
   "source": [
    "server_name = \"web1\"\n",
    "region = \"us-east-1\"\n",
    "deployment_path = \"/opt/app\"\n",
    "print(type(server_name))"
   ]
  },
  {
   "cell_type": "code",
   "execution_count": null,
   "id": "5916efd6",
   "metadata": {},
   "outputs": [],
   "source": [
    "sequential or ordered  elements - indexed  list,tuple\n",
    "\n",
    "non sequential or unordered elements - unindexed dictionary,set\n",
    "mutable - list,dictionary\n",
    "immutable - tuple,set\n",
    "\n",
    "\n",
    "\n",
    "\n",
    "\n",
    "\n",
    "\n",
    "\n"
   ]
  },
  {
   "cell_type": "code",
   "execution_count": null,
   "id": "a1f0ab20",
   "metadata": {},
   "outputs": [
    {
     "name": "stdout",
     "output_type": "stream",
     "text": [
      "DevOpsDevOps\n"
     ]
    }
   ],
   "source": [
    "What Python module is ideal to traverse through directory structures for DevOps file cleanup automation?"
   ]
  }
 ],
 "metadata": {
  "kernelspec": {
   "display_name": ".venv",
   "language": "python",
   "name": "python3"
  },
  "language_info": {
   "codemirror_mode": {
    "name": "ipython",
    "version": 3
   },
   "file_extension": ".py",
   "mimetype": "text/x-python",
   "name": "python",
   "nbconvert_exporter": "python",
   "pygments_lexer": "ipython3",
   "version": "3.12.0"
  }
 },
 "nbformat": 4,
 "nbformat_minor": 5
}
