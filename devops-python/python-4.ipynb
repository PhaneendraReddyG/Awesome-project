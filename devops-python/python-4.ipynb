{
 "cells": [
  {
   "cell_type": "code",
   "execution_count": null,
   "id": "b46ec022",
   "metadata": {},
   "outputs": [],
   "source": [
    "\n",
    "'''\n",
    "\n",
    "1.arithmatic operators---------->>  +,-,*,/,%,//,**\n",
    "2.assignment operators-----> =,+=,-=,*=,/=.\n",
    "3. comparison operators ----> ==,>,<,>=,<=,!=\n",
    "4. logical operators ----> and,or,not\n",
    "5. membership operators ----> in,not in\n",
    "6. identity operators ----> is,is not\n",
    "\n",
    "'''"
   ]
  },
  {
   "cell_type": "code",
   "execution_count": null,
   "id": "5db4dbe1",
   "metadata": {},
   "outputs": [
    {
     "name": "stdout",
     "output_type": "stream",
     "text": [
      "2028560966272\n",
      "2028560966272\n",
      "True\n"
     ]
    }
   ],
   "source": [
    "a=[1,2,3]\n",
    "b=a\n",
    "\n",
    "print(id(a))\n",
    "print(id(b))\n",
    "print(a is b)\n"
   ]
  },
  {
   "cell_type": "code",
   "execution_count": 6,
   "id": "52f666d1",
   "metadata": {},
   "outputs": [
    {
     "name": "stdout",
     "output_type": "stream",
     "text": [
      "server5\n"
     ]
    }
   ],
   "source": [
    "list_of_servers = ['server1','server2','server3','server4','server5'] ##packing\n",
    "\n",
    "server_one,server_two,server_three,server_four,server_five = list_of_servers ##unpacking\n",
    "\n",
    "print(server_five)"
   ]
  }
 ],
 "metadata": {
  "kernelspec": {
   "display_name": "Python 3",
   "language": "python",
   "name": "python3"
  },
  "language_info": {
   "codemirror_mode": {
    "name": "ipython",
    "version": 3
   },
   "file_extension": ".py",
   "mimetype": "text/x-python",
   "name": "python",
   "nbconvert_exporter": "python",
   "pygments_lexer": "ipython3",
   "version": "3.12.0"
  }
 },
 "nbformat": 4,
 "nbformat_minor": 5
}
